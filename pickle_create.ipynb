{
 "cells": [
  {
   "cell_type": "code",
   "execution_count": 89,
   "metadata": {
    "collapsed": true
   },
   "outputs": [],
   "source": [
    "import numpy as np\n",
    "import pandas as pd\n",
    "import pickle\n",
    "\n",
    "rawbase = \"ml-1m/\"\n",
    "database = \"DataPickle/1M/\"\n",
    "resultbase = \"Results/1M/\"\n",
    "\n",
    "nuser = 6040#943\n",
    "nitem = 3952#1682\n",
    "#nuser = 943\n",
    "#nitem = 1682\n",
    "\n",
    "uimat = []\n",
    "uimat_meanshifted = []\n",
    "uimat_meanshifted_transpose = []\n",
    "stduser = []\n",
    "meanuser = []\n",
    "uusim = []\n",
    "\n",
    "def init():\n",
    "    global uimat\n",
    "    global meanuser\n",
    "    global stduser\n",
    "    global uusim\n",
    "    global uimat_meanshifted\n",
    "    global uimat_meanshifted_transpose\n",
    "    uimat = []\n",
    "    stduser = []\n",
    "    meanuser = []\n",
    "    uusim = []\n",
    "    uimat_meanshifted = []\n",
    "    uimat_meanshifted_transpose = []\n",
    "\n",
    "def createUI(path):\n",
    "    data = []\n",
    "    prodata = []\n",
    "    global uimat\n",
    "    with open(path) as f:\n",
    "        for line in f:\n",
    "            temp = line.strip().split('\\t')\n",
    "            da = [int(x) for x in temp]\n",
    "            data.append(da[:3])\n",
    "    prodata = np.array(data)\n",
    "    for i in range(nuser):\n",
    "        temp = []\n",
    "        for j in range(nitem):\n",
    "            temp.append(0)\n",
    "        uimat.append(temp)\n",
    "    for x in prodata:\n",
    "        uimat[x[0]-1][x[1]-1] = x[2]\n",
    "    uimat = np.array(uimat)"
   ]
  },
  {
   "cell_type": "code",
   "execution_count": 90,
   "metadata": {
    "collapsed": true
   },
   "outputs": [],
   "source": [
    "def fill_meanstd():\n",
    "    global stduser \n",
    "    global stditem\n",
    "    global meanuser\n",
    "    global meanitem\n",
    "    global uimat\n",
    "    for i in uimat:\n",
    "        t =[x for x in i if x != 0]\n",
    "        if len(t)==0:\n",
    "            meanuser.append(0)\n",
    "            stduser.append(1)\n",
    "        elif np.std(t)==0:\n",
    "            meanuser.append(np.mean(t))\n",
    "            stduser.append(1)\n",
    "        else:\n",
    "            meanuser.append(np.mean(t))\n",
    "            stduser.append(np.std(t))\n",
    "    meanuser = np.array(meanuser)\n",
    "    meanuser.shape = (meanuser.shape[0],1)\n",
    "    stduser = np.array(stduser)\n",
    "    stduser.shape = (stduser.shape[0],1)\n",
    "\n",
    "def meanshift():\n",
    "    global meanuser\n",
    "    global stduser\n",
    "    global uimat\n",
    "    global uimat_meanshifted\n",
    "    global uimat_meanshifted_transpose    \n",
    "    \n",
    "    uimat[uimat<1] = -100\n",
    "    uimat_meanshifted = uimat - meanuser\n",
    "    uimat_meanshifted[uimat_meanshifted<-50]=0\n",
    "    uimat[uimat<-50] = 0\n",
    "    uimat_meanshifted_transpose = uimat_meanshifted.T   \n",
    "\n",
    "def uusersim():\n",
    "    global uusim    \n",
    "    temp = np.dot(uimat_meanshifted,uimat_meanshifted_transpose)\n",
    "    temp = temp/stduser\n",
    "    uusim=temp/np.transpose(stduser)\n",
    "    for i in range(nuser):\n",
    "        uusim[i,i] = 0"
   ]
  },
  {
   "cell_type": "code",
   "execution_count": 91,
   "metadata": {
    "collapsed": false
   },
   "outputs": [],
   "source": [
    "for i in range(1,6):\n",
    "    init()\n",
    "    pa = rawbase+ \"u\"+str(i)+\".base\"\n",
    "    createUI(pa)\n",
    "    fill_meanstd()\n",
    "    meanshift()\n",
    "    uusersim()\n",
    "    with open(database+str(i)+\"/input.pickle\",\"wb\") as f:\n",
    "        pickle.dump(uimat,f)\n",
    "    with open(database+str(i)+\"/usermat.pickle\",\"wb\") as f:\n",
    "        pickle.dump(uusim,f)\n",
    "    '''\n",
    "    df = pd.DataFrame(np.array(uusim))#, index = index, columns = [\"NMAE\"]\n",
    "    writer = pd.ExcelWriter(database + 'uusim.xlsx')\n",
    "    df.to_excel(writer,'Sheet1')\n",
    "    writer.save()\n",
    "    '''"
   ]
  },
  {
   "cell_type": "code",
   "execution_count": 92,
   "metadata": {
    "collapsed": false
   },
   "outputs": [],
   "source": [
    "tu = []\n",
    "ts = []\n",
    "with open(database+str(1)+\"/input.pickle\",\"rb\") as f:\n",
    "    tu = pickle.load(f)\n",
    "with open(database+str(1)+\"/usermat.pickle\",\"rb\") as f:\n",
    "    ts = pickle.load(f)"
   ]
  },
  {
   "cell_type": "code",
   "execution_count": 93,
   "metadata": {
    "collapsed": false
   },
   "outputs": [
    {
     "data": {
      "text/plain": [
       "array([[0, 0, 0, ..., 0, 0, 0],\n",
       "       [0, 0, 0, ..., 0, 0, 0],\n",
       "       [0, 0, 0, ..., 0, 0, 0],\n",
       "       ..., \n",
       "       [0, 0, 0, ..., 0, 0, 0],\n",
       "       [0, 0, 0, ..., 0, 0, 0],\n",
       "       [3, 0, 0, ..., 0, 0, 0]])"
      ]
     },
     "execution_count": 93,
     "metadata": {},
     "output_type": "execute_result"
    }
   ],
   "source": [
    "tu"
   ]
  },
  {
   "cell_type": "code",
   "execution_count": 95,
   "metadata": {
    "collapsed": false
   },
   "outputs": [
    {
     "data": {
      "text/plain": [
       "(6040, 6040)"
      ]
     },
     "execution_count": 95,
     "metadata": {},
     "output_type": "execute_result"
    }
   ],
   "source": [
    "ts.shape"
   ]
  },
  {
   "cell_type": "code",
   "execution_count": 88,
   "metadata": {
    "collapsed": false
   },
   "outputs": [
    {
     "data": {
      "text/plain": [
       "-42.236740650783624"
      ]
     },
     "execution_count": 88,
     "metadata": {},
     "output_type": "execute_result"
    }
   ],
   "source": [
    "np.min(ts)"
   ]
  },
  {
   "cell_type": "code",
   "execution_count": null,
   "metadata": {
    "collapsed": true
   },
   "outputs": [],
   "source": []
  }
 ],
 "metadata": {
  "anaconda-cloud": {},
  "kernelspec": {
   "display_name": "Python [default]",
   "language": "python",
   "name": "python3"
  },
  "language_info": {
   "codemirror_mode": {
    "name": "ipython",
    "version": 3
   },
   "file_extension": ".py",
   "mimetype": "text/x-python",
   "name": "python",
   "nbconvert_exporter": "python",
   "pygments_lexer": "ipython3",
   "version": "3.5.2"
  }
 },
 "nbformat": 4,
 "nbformat_minor": 2
}
